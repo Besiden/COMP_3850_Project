{
 "cells": [
  {
   "cell_type": "code",
   "execution_count": 2,
   "metadata": {},
   "outputs": [],
   "source": [
    "import glob\n",
    "import os"
   ]
  },
  {
   "cell_type": "code",
   "execution_count": 4,
   "metadata": {},
   "outputs": [
    {
     "data": {
      "text/plain": [
       "['AustralianSuper', 'Aware Super', 'UniSuper']"
      ]
     },
     "execution_count": 4,
     "metadata": {},
     "output_type": "execute_result"
    }
   ],
   "source": [
    "# get a list of all superfund names (or folder names) inside Documents\n",
    "# can be used for superfund list in front-end?\n",
    "super_names = [os.path.basename(l) for l in glob.glob('Documents/*')\n",
    "               if '.' not in l]\n",
    "\n",
    "super_names"
   ]
  },
  {
   "cell_type": "code",
   "execution_count": 12,
   "metadata": {},
   "outputs": [],
   "source": [
    "import google.generativeai as genai\n",
    "\n",
    "genai.configure(api_key=os.environ[\"GENERATIVE_AI_API_KEY\"])\n",
    "model = genai.GenerativeModel(\"gemini-1.5-flash\")"
   ]
  },
  {
   "cell_type": "code",
   "execution_count": 23,
   "metadata": {},
   "outputs": [
    {
     "name": "stdout",
     "output_type": "stream",
     "text": [
      "I do not have access to the internet or local files to retrieve and read the documents you provided (\"Documents/AustralianSuper\\AusSuperESG.pdf\", \"Documents/AustralianSuper\\AustralianSuper Assessment Report.pdf\", \"Documents/AustralianSuper\\AustralianSuper Transparency Report.pdf\"). Therefore, I cannot provide a summary of AustralianSuper's ESG investment practices based on those specific files. \n",
      "\n",
      "Please provide the relevant information from the documents, and I can help you summarize AustralianSuper's approach to ESG investing. \n",
      "\n"
     ]
    }
   ],
   "source": [
    "'''\n",
    "I managed to get all the files in the superfund folder, however, gemini can't access those files!?\n",
    "Will need to investigate more tmr\n",
    "genai.upload_file() does not allow multiple documents\n",
    "'''\n",
    "super_selected = \"AustralianSuper\"\n",
    "# SuperPDF is a list of file paths under super_selected folder\n",
    "SuperPDF = glob.glob(\"Documents/\"+super_selected+\"/*.pdf\")\n",
    "# prompt\n",
    "prompt = \"Give me a basic summary of how\"+str(super_selected)+\"makes ESG concious invesments. The Response Sould Be less than 150 Words and based on the files provided\"\n",
    "# *SuperPDF: * to unpack the list of file paths\n",
    "response = model.generate_content([prompt,*SuperPDF])\n",
    "print(response.text)"
   ]
  }
 ],
 "metadata": {
  "kernelspec": {
   "display_name": "base",
   "language": "python",
   "name": "python3"
  },
  "language_info": {
   "codemirror_mode": {
    "name": "ipython",
    "version": 3
   },
   "file_extension": ".py",
   "mimetype": "text/x-python",
   "name": "python",
   "nbconvert_exporter": "python",
   "pygments_lexer": "ipython3",
   "version": "3.11.3"
  }
 },
 "nbformat": 4,
 "nbformat_minor": 2
}
