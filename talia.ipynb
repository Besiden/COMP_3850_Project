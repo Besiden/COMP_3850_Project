{
 "cells": [
  {
   "cell_type": "code",
   "execution_count": 1,
   "metadata": {},
   "outputs": [],
   "source": [
    "import glob\n",
    "import os"
   ]
  },
  {
   "cell_type": "code",
   "execution_count": 4,
   "metadata": {},
   "outputs": [
    {
     "data": {
      "text/plain": [
       "['AustralianSuper', 'Aware Super', 'UniSuper']"
      ]
     },
     "execution_count": 4,
     "metadata": {},
     "output_type": "execute_result"
    }
   ],
   "source": [
    "# get a list of all superfund names (or folder names) inside Documents\n",
    "# can be used for superfund list in front-end?\n",
    "super_names = [os.path.basename(l) for l in glob.glob('Documents/*')\n",
    "               if '.' not in l]\n",
    "\n",
    "super_names"
   ]
  },
  {
   "cell_type": "code",
   "execution_count": 2,
   "metadata": {},
   "outputs": [],
   "source": [
    "import google.generativeai as genai\n",
    "\n",
    "genai.configure(api_key=os.environ[\"GENERATIVE_AI_API_KEY\"])\n",
    "model = genai.GenerativeModel(\"gemini-1.5-flash\")"
   ]
  },
  {
   "cell_type": "code",
   "execution_count": 3,
   "metadata": {},
   "outputs": [
    {
     "name": "stdout",
     "output_type": "stream",
     "text": [
      "AustralianSuper integrates ESG considerations into its investment process, actively exercises ownership rights on behalf of members, and provides investment choices consistent with members' values. ESG integration occurs during due diligence, ownership, and exit decisions. Stewardship is carried out through voting, engagement, and participation in class actions. Socially Aware offers a screened investment option.  The Investment Committee oversees the implementation of the ESG and Stewardship Policy. \n",
      "\n"
     ]
    }
   ],
   "source": [
    "'''\n",
    "Managed to upload multiple documents, but processing time is slow\n",
    "'''\n",
    "super_selected = \"AustralianSuper\"\n",
    "# SuperPDF is a list of file paths under super_selected folder\n",
    "SuperPDF_paths = glob.glob(\"Documents/\"+super_selected+\"/*.pdf\")\n",
    "\n",
    "uploaded_files = []\n",
    "# prompt\n",
    "prompt = \"Give me a basic summary of how\"+str(super_selected)+\"makes ESG concious invesments. The Response Sould Be less than 150 Words and based on the files provided\"\n",
    "uploaded_files.append(prompt)\n",
    "for file_path in SuperPDF_paths:\n",
    "    with open(file_path, 'rb') as file:\n",
    "        uploaded_files.append(genai.upload_file(file, mime_type=\"application/pdf\"))\n",
    "\n",
    "# *SuperPDF: * to unpack the list of file paths\n",
    "response = model.generate_content(uploaded_files)\n",
    "print(response.text)"
   ]
  }
 ],
 "metadata": {
  "kernelspec": {
   "display_name": "base",
   "language": "python",
   "name": "python3"
  },
  "language_info": {
   "codemirror_mode": {
    "name": "ipython",
    "version": 3
   },
   "file_extension": ".py",
   "mimetype": "text/x-python",
   "name": "python",
   "nbconvert_exporter": "python",
   "pygments_lexer": "ipython3",
   "version": "3.11.3"
  }
 },
 "nbformat": 4,
 "nbformat_minor": 2
}
