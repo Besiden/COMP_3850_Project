{
 "cells": [
  {
   "cell_type": "code",
   "execution_count": 1,
   "metadata": {},
   "outputs": [],
   "source": [
    "import glob\n",
    "import os\n",
    "\n",
    "import google.generativeai as genai\n",
    "\n",
    "genai.configure(api_key=os.environ[\"GENERATIVE_AI_API_KEY\"])\n",
    "model = genai.GenerativeModel(\"gemini-1.5-flash\")\n",
    "super_selected = \"AustralianSuper\""
   ]
  },
  {
   "cell_type": "code",
   "execution_count": 2,
   "metadata": {},
   "outputs": [
    {
     "data": {
      "text/plain": [
       "['AustralianSuper', 'Aware Super', 'UniSuper']"
      ]
     },
     "execution_count": 2,
     "metadata": {},
     "output_type": "execute_result"
    }
   ],
   "source": [
    "# get a list of all superfund names (or folder names) inside Documents\n",
    "# can be used for superfund list in front-end?\n",
    "super_names = [os.path.basename(l) for l in glob.glob('Documents/*')\n",
    "               if '.' not in l]\n",
    "\n",
    "super_names"
   ]
  },
  {
   "cell_type": "code",
   "execution_count": 3,
   "metadata": {},
   "outputs": [
    {
     "name": "stdout",
     "output_type": "stream",
     "text": [
      "AustralianSuper believes ESG factors are important to managing investment risk and opportunity, and for maximizing returns for members. The Fund integrates ESG factors into its investment process, exercises the rights and responsibilities of ownership, and offers members investment choices consistent with their values.  This is implemented by integrating ESG considerations across all major asset classes and through their “Socially Aware” screened investment option.  Their ESG and Stewardship Policy is regularly reviewed to keep pace with industry standards and to ensure they are meeting their goals. \n",
      "\n"
     ]
    }
   ],
   "source": [
    "# UPLOAD ALL THE DOCUMENTS IN PDF FORM\n",
    "# SuperPDF is a list of file paths under super_selected folder\n",
    "SuperPDF_paths = glob.glob(\"Documents/\"+super_selected+\"/*.pdf\")\n",
    "\n",
    "uploaded_files = []\n",
    "# prompt\n",
    "prompt = \"Give me a basic summary of how\"+str(super_selected)+\"makes ESG concious invesments. The Response should be less than 150 words and based on the files provided\"\n",
    "uploaded_files.append(prompt)\n",
    "for file_path in SuperPDF_paths:\n",
    "    with open(file_path, 'rb') as file:\n",
    "        uploaded_files.append(genai.upload_file(file, mime_type=\"application/pdf\"))\n",
    "\n",
    "response = model.generate_content(uploaded_files)\n",
    "print(response.text)"
   ]
  },
  {
   "cell_type": "code",
   "execution_count": 5,
   "metadata": {},
   "outputs": [],
   "source": [
    "# CHANGE ONE PDF FILE TO TEXT FORM\n",
    "from pdfminer.high_level import extract_text\n",
    "\n",
    "def save_to_txt(pdf_path):\n",
    "    text = extract_text(pdf_path)\n",
    "\n",
    "    if text:\n",
    "        txt_path = pdf_path.replace('pdf','txt')\n",
    "        \n",
    "        with open(txt_path, 'w', encoding='utf-8') as txt_file:\n",
    "            txt_file.write(text)\n",
    "    else:\n",
    "        print(f\"No text extracted from {pdf_path}\")"
   ]
  },
  {
   "cell_type": "code",
   "execution_count": 4,
   "metadata": {},
   "outputs": [
    {
     "name": "stderr",
     "output_type": "stream",
     "text": [
      "The PDF <_io.BufferedReader name='Documents/Child Care Super\\\\CCS_GRF_Annual_Member_Meeting_Minutes_2024.pdf'> contains a metadata field indicating that it should not allow text extraction. Ignoring this field and proceeding. Use the check_extractable if you want to raise an error in this case\n"
     ]
    }
   ],
   "source": [
    "pdf_path = glob.glob(\"Documents/\"+super_selected+\"/*.pdf\")\n",
    "for file in pdf_path:\n",
    "    save_to_txt(file)"
   ]
  },
  {
   "cell_type": "code",
   "execution_count": 19,
   "metadata": {},
   "outputs": [],
   "source": [
    "# CHANGE ALL PDF FILES TO 1 TXT DOC\n",
    "def save_all_to_txt(path_list):\n",
    "    all_text = \"\"\n",
    "    for file in path_list:\n",
    "        file_txt = extract_text(file)\n",
    "        all_text += f\"{file_txt} \\n\"\n",
    "    \n",
    "    txt_path = \"Documents/AustralianSuper/AS.txt\"\n",
    "    with open(txt_path, 'w', encoding='utf-8') as txt_file:\n",
    "        txt_file.write(all_text)"
   ]
  },
  {
   "cell_type": "code",
   "execution_count": 20,
   "metadata": {},
   "outputs": [
    {
     "name": "stderr",
     "output_type": "stream",
     "text": [
      "The PDF <_io.BufferedReader name='Documents/Child Care Super\\\\CCS_GRF_Annual_Member_Meeting_Minutes_2024.pdf'> contains a metadata field indicating that it should not allow text extraction. Ignoring this field and proceeding. Use the check_extractable if you want to raise an error in this case\n"
     ]
    }
   ],
   "source": [
    "SuperPDF_paths = glob.glob(\"Documents/\"+super_selected+\"/*.pdf\")\n",
    "save_all_to_txt(SuperPDF_paths)"
   ]
  },
  {
   "cell_type": "code",
   "execution_count": 5,
   "metadata": {},
   "outputs": [
    {
     "name": "stdout",
     "output_type": "stream",
     "text": [
      "I apologize, but I can't answer your question. The provided file doesn't have information on how Child Care Super makes ESG-conscious investments. \n",
      "\n",
      "The document focuses on basic superannuation information, including:\n",
      "\n",
      "* **Investment options:**  It describes the MySuper Lifecycle Investment Strategy and the MyMix Solution, but doesn't mention ESG considerations.\n",
      "* **Fees and costs:** It details the different types of fees charged. \n",
      "* **Insurance:** It explains the available insurance policies.\n",
      "* **Taxation:** It outlines the tax implications of contributions and withdrawals. \n",
      "\n",
      "To find out if Child Care Super makes ESG-conscious investments, you should:\n",
      "\n",
      "1. **Contact Child Care Super directly:** They can provide you with the most up-to-date information on their investment practices and whether they incorporate ESG factors.\n",
      "2. **Review their website:**  Look for sections on sustainability, responsible investing, or ESG on their website.\n",
      "3. **Consult their Product Disclosure Statement (PDS):**  This document typically contains information about the investment philosophy and strategies used by the fund. \n",
      "\n",
      "Remember, ESG considerations are becoming increasingly important in investment decisions, so finding out how a fund addresses them is essential for informed choices. \n",
      "\n"
     ]
    }
   ],
   "source": [
    "# UPLOAD ALL TXT DOCS TO PROMPT\n",
    "SuperPDF_paths = glob.glob(\"Documents/\"+super_selected+\"/*.txt\")\n",
    "\n",
    "uploaded_files = []\n",
    "# prompt\n",
    "prompt = \"Give me a basic summary of how\"+str(super_selected)+\"makes ESG concious invesments. The Response should be less than 150 words and based on the files provided\"\n",
    "uploaded_files.append(prompt)\n",
    "for file_path in SuperPDF_paths:\n",
    "    with open(file_path, 'rb') as file:\n",
    "        uploaded_files.append(genai.upload_file(file, mime_type=\"text/plain\"))\n",
    "\n",
    "response = model.generate_content(uploaded_files)\n",
    "print(response.text)"
   ]
  },
  {
   "cell_type": "code",
   "execution_count": 6,
   "metadata": {},
   "outputs": [
    {
     "name": "stdout",
     "output_type": "stream",
     "text": [
      "The document you provided is AustralianSuper's ESG and Stewardship Policy for 2023. \n",
      "\n",
      "The document specifically focuses on the fund's approach to ESG factors and investment stewardship. It outlines the fund's beliefs about ESG factors and their importance, their ESG and stewardship program, the integration of ESG considerations into their investment process, their stewardship responsibilities, their approach to engagement and choice, their exclusions and divestment policies, their collaboration and networks, and their reporting and policy review practices. \n",
      "\n",
      "In addition to the specific keywords and sections related to ESG, the document also includes information about the fund's investment decisions and strategies. You can find this information in the section titled \"ESG Integration,\" which describes how the fund considers ESG factors at various stages of the investment process, including due diligence, ownership, and exit.\n",
      "\n",
      "Overall, the document provides a comprehensive overview of AustralianSuper's ESG and Stewardship Policy and highlights the importance of these factors in their investment approach.\n",
      "\n"
     ]
    }
   ],
   "source": [
    "# UPLOAD 1 PDF DOCUMENT TO PROMPT: 9.9s\n",
    "prompt = \"Find ESG related keywords or sections in this document of this super fund: \"+super_selected+\". Is there any section in this document that mentions this fund's investment decisions and strategies?\"\n",
    "prompt1 = \"Find information about the fund's investments\"\n",
    "pdf_file = genai.upload_file(\"Documents/\"+super_selected+\"/AusSuperESG.pdf\")\n",
    "response = model.generate_content([prompt, pdf_file])\n",
    "print(response.text)"
   ]
  },
  {
   "cell_type": "code",
   "execution_count": 17,
   "metadata": {},
   "outputs": [
    {
     "name": "stdout",
     "output_type": "stream",
     "text": [
      "This document does not mention any ESG-related keywords or sections. It focuses on the fund's structure, investment options, fees, insurance and tax implications. There is no mention of the fund's investment decisions and strategies with respect to sustainability or environmental, social, and governance (ESG) factors. \n",
      "\n"
     ]
    }
   ],
   "source": [
    "# UPLOAD 1 TXT DOC TO PROMPT: 5.5s\n",
    "txt_file = genai.upload_file(\"Documents/\"+super_selected+\"/AusSuperESG.txt\")\n",
    "response1 = model.generate_content([prompt, txt_file])\n",
    "print(response1.text)"
   ]
  },
  {
   "cell_type": "code",
   "execution_count": 23,
   "metadata": {},
   "outputs": [
    {
     "name": "stdout",
     "output_type": "stream",
     "text": [
      "This document doesn't mention any ESG (Environmental, Social, and Governance) related keywords or sections. There is no mention of the fund's investment decisions or strategies being influenced by ESG considerations. \n",
      "\n",
      "The document primarily focuses on:\n",
      "\n",
      "* **Investment Basics:**  Explaining different asset classes, risk, and return.\n",
      "* **Child Care Super Investment Options:**  Detailed breakdown of the MySuper Lifecycle Investment Strategy and the MyMix Solution.\n",
      "* **Fees and Costs:**  A clear explanation of the different fees associated with the MySuper product and the MyMix Solution.\n",
      "* **Insurance:**  A detailed overview of the insurance options offered to members, including default cover and optional cover.\n",
      "* **Opening an Account:**  Step-by-step guidance on how to join Child Care Super. \n",
      "\n",
      "The document doesn't address ESG considerations in detail, so it's impossible to determine if Child Care Super incorporates them into their investment strategies without further information. \n",
      "\n"
     ]
    }
   ],
   "source": [
    "# UPLOAD 1 TXT DOC CONTAINING ALL DOCS TO PROMPT: 6.5s\n",
    "txt_file1 = genai.upload_file(\"Documents/\"+super_selected+\"/AS.txt\")\n",
    "response2 = model.generate_content([prompt, txt_file1])\n",
    "print(response2.text)"
   ]
  },
  {
   "cell_type": "markdown",
   "metadata": {},
   "source": [
    "**Notes**   \n",
    "Investments in certain companies -> are those companies ethical?   \n",
    "Genai: very unreliable results   \n",
    "Most companies don't specifically state their stances on ESG issues in the documents, and if they do it's mostly vague and ambiguous. Do we expect the result to spit out specifically what ESG issues the company invests in, or just a general statement of their stance on ESG issues found in the documents?   \n",
    "Key words:\n",
    "- investment options, strategy\n",
    "- responsible investment considerations/approach   \n",
    "- women, healthcare, community services, early learning   \n",
    "\n",
    "**Text Processing**   \n",
    "- Text format takes less time than PDF. Combining all documents into 1 takes less time than separate documents.   \n",
    "\n",
    "### USING ELASTIC SEARCH - DISREGARD BELOW AS IT'S ONLY A TEST   \n",
    "#### 1. Extract text from PDFs"
   ]
  },
  {
   "cell_type": "code",
   "execution_count": null,
   "metadata": {},
   "outputs": [],
   "source": [
    "'''\n",
    "# CHANGE ONE PDF FILE TO TEXT FORM\n",
    "from pdfminer.high_level import extract_text\n",
    "\n",
    "def save_to_txt(pdf_path):\n",
    "    text = extract_text(pdf_path)\n",
    "\n",
    "    if text:\n",
    "        txt_path = pdf_path.replace('pdf','txt')\n",
    "        \n",
    "        with open(txt_path, 'w', encoding='utf-8') as txt_file:\n",
    "            txt_file.write(text)\n",
    "    else:\n",
    "        print(f\"No text extracted from {pdf_path}\")\n",
    "\n",
    "super_selected = \"Child Care Super\"\n",
    "pdf_path = glob.glob(\"Documents/\"+super_selected+\"/*.pdf\")\n",
    "for file in pdf_path:\n",
    "    save_to_txt(file)\n",
    "'''"
   ]
  },
  {
   "cell_type": "markdown",
   "metadata": {},
   "source": [
    "#### 2. Index into JSON format for ElasticSearch"
   ]
  },
  {
   "cell_type": "code",
   "execution_count": 9,
   "metadata": {},
   "outputs": [],
   "source": [
    "from elasticsearch import Elasticsearch\n",
    "from elasticsearch.helpers import bulk\n",
    "import json\n",
    "\n",
    "es = Elasticsearch(hosts=[\"http://localhost:9200\"])"
   ]
  },
  {
   "cell_type": "code",
   "execution_count": 16,
   "metadata": {},
   "outputs": [],
   "source": [
    "# extract text from pdf and save it to a JSON format document\n",
    "def process_pdf(file_path, super_name):\n",
    "    pdf_text = extract_text(file_path)\n",
    "\n",
    "    doc = {\n",
    "        \"Superfund Name\":super_name,\n",
    "        \"Document Name\":os.path.basename(file_path).replace(\".pdf\", \"\"),\n",
    "        \"Source Document\":file_path,\n",
    "        \"Content\":pdf_text\n",
    "    }\n",
    "\n",
    "    return doc"
   ]
  },
  {
   "cell_type": "code",
   "execution_count": 14,
   "metadata": {},
   "outputs": [],
   "source": [
    "# process all PDFs in a super fund's folder\n",
    "def process_all_pdfs(file_list, output_json_path):\n",
    "    all_doc = []\n",
    "\n",
    "    for file in file_list:\n",
    "        all_doc.append(process_pdf(file, super_selected))\n",
    "    \n",
    "    with open(output_json_path, 'w', encoding='utf-8') as json_file:\n",
    "        json.dump(all_doc, json_file, indent=4, ensure_ascii=False)"
   ]
  },
  {
   "cell_type": "code",
   "execution_count": 17,
   "metadata": {},
   "outputs": [
    {
     "name": "stderr",
     "output_type": "stream",
     "text": [
      "The PDF <_io.BufferedReader name='Documents/Child Care Super\\\\CCS_GRF_Annual_Member_Meeting_Minutes_2024.pdf'> contains a metadata field indicating that it should not allow text extraction. Ignoring this field and proceeding. Use the check_extractable if you want to raise an error in this case\n"
     ]
    }
   ],
   "source": [
    "# list of all file paths in the folder\n",
    "pdf_path = glob.glob(\"Documents/\"+super_selected+\"/*.pdf\")\n",
    "# output json file path\n",
    "json_path = f\"Documents/{super_selected}/{super_selected}.json\"\n",
    "# call function\n",
    "process_all_pdfs(pdf_path, json_path)"
   ]
  },
  {
   "cell_type": "code",
   "execution_count": 18,
   "metadata": {},
   "outputs": [],
   "source": [
    "# INGEST INTO ELASTICSEARCH\n",
    "def process_pdf_for_elastic(file_path):\n",
    "    pdf_text = extract_text(file_path)\n",
    "\n",
    "    doc = {\n",
    "        \"Superfund Name\":super_selected,\n",
    "        \"Document Name\":os.path.basename(file_path).replace(\".pdf\", \"\"),\n",
    "        \"Source Document\":file_path,\n",
    "        \"Content\":pdf_text\n",
    "    }\n",
    "\n",
    "    es.index(index=super_selected, document=doc)"
   ]
  },
  {
   "cell_type": "code",
   "execution_count": 1,
   "metadata": {},
   "outputs": [],
   "source": [
    "#process_pdf_for_elastic(\"Documents/Child Care Super/CCS_GRF_Annual_Member_Meeting_Minutes_2024.pdf\")"
   ]
  }
 ],
 "metadata": {
  "kernelspec": {
   "display_name": "base",
   "language": "python",
   "name": "python3"
  },
  "language_info": {
   "codemirror_mode": {
    "name": "ipython",
    "version": 3
   },
   "file_extension": ".py",
   "mimetype": "text/x-python",
   "name": "python",
   "nbconvert_exporter": "python",
   "pygments_lexer": "ipython3",
   "version": "3.11.3"
  }
 },
 "nbformat": 4,
 "nbformat_minor": 2
}
